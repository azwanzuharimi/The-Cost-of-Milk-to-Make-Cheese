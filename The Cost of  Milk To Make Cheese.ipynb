{
 "cells": [
  {
   "cell_type": "markdown",
   "metadata": {
    "dc": {
     "key": "4"
    },
    "deletable": false,
    "editable": false,
    "run_control": {
     "frozen": true
    },
    "tags": [
     "context"
    ]
   },
   "source": [
    "## The cost of milk to make cheese\n",
    "<p>The Coronavirus outbreak has caused major economic disruption. The pandemic's impact on the tourism, travel, and hospitality industries has featured frequently in 2020 news reports, but the economic impact has not been isolated to these industries alone. </p>\n",
    "<p>The UK dairy industry is one such affected industry and has had to work together to address current market challenges and avoid milk waste. The industry can adapt to the temporary decrease in demand by identifying opportunities for processing the milk into storable products such as butter, cheese, and skimmed milk powder. </p>\n",
    "<p>The UK Department of Environment, Food, and Rural Affairs has contracted your company to perform a detailed analysis of the UK dairy industry to help them understand the industry's value. </p>\n",
    "<p>Your team has divided the analysis project into several tasks. One of the tasks is to determine the value of the cheddar cheese industry. The revenue from cheese is much more than, for example, whole milk, but a kilogram of cheese requires almost ten liters of raw milk to make. Your first task is to determine the annual cost of milk needed to produce cheddar cheese over the past five years. </p>\n",
    "<p>You have been provided with three datasets. <em><strong>Please note that 1000 kg = 1 metric tonne.</strong></em></p>\n",
    "<div style=\"background-color: #efebe4; color: #05192d; text-align:left; vertical-align: middle; padding: 15px 25px 15px 25px; line-height: 1.6;\">\n",
    "    <div style=\"font-size:16px\"><b>datasets/milk_prices.csv - The monthly prices, volume, protein percentage and butterfat percentage of milk </b>\n",
    "    </div>\n",
    "Source: <a href=\"https://environment.data.gov.uk/linked-data/cube/explore?uri=http%3A%2F%2Fenvironment.data.gov.uk%2Flinked-data%2Fcatalog%2Fdatasets%2Fentry%2Fmilk-prices-and-composition-of-milk-annual-statistics&filters-drawer=closed\">Defra Data Services Platform</a>\n",
    "<ul>\n",
    "    <li><b>Time: </b>The month and year when the value was recorded.</li>\n",
    "    <li><b>Measure Type: </b>The type of measure recorded.</li>\n",
    "    <li><b>Price:</b> The price of milk (in Pounds per liter).</li>\n",
    "    <li><b>Volume:</b> The amount of milk produced (in million liters).</li>\n",
    "    <li><b>Protein:</b> The protein content of the milk (percentage).</li>\n",
    "    <li><b>Butterfat:</b> The butterfat content of the milk (percentage).</li>\n",
    "    <li><b>Unit of Measure:</b> The units specific to the measure type.</li>\n",
    "</ul>\n",
    "</div>\n",
    "<div style=\"background-color: #efebe4; color: #05192d; text-align:left; vertical-align: middle; padding: 15px 25px 15px 25px; line-height: 1.6; margin-top: 17px;\">\n",
    "    <div style=\"font-size:16px\"><b>datasets/Milk_products_production.csv - The monthly production figures of milk, cream and cheddar cheese</b>\n",
    "    </div>\n",
    "Source: <a href=\"https://www.gov.uk/government/statistics/milk-utilisation-by-dairies-in-england-and-wales\">GOV.UK</a>\n",
    "    <ul>\n",
    "        <li><b>Unnamed: 0: </b>The year and month when the value was recorded.</li>\n",
    "        <li><b>Liquid Milk Production: </b>The total amount of milk produced (in million liters).</li>\n",
    "        <li><b>Cream Production: </b>The total amount of cream produced (in million liters).</li>\n",
    "        <li><b>Cheddar Cheese Production:</b>The total amount of cheddar cheese produced (in thousand tonnes).</li>\n",
    "    </ul>\n",
    "</div>\n",
    "<div style=\"background-color: #efebe4; color: #05192d; text-align:left; vertical-align: middle; padding: 15px 25px 15px 25px; line-height: 1.6; margin-top: 17px;\">    \n",
    "    <div style=\"font-size:16px\"><b>datasets/conversion_factors.xls - Liters of milk used to make one kilogram of product</b>\n",
    "    </div>\n",
    "Source: <a href=\"https://www.gov.uk/government/statistics/milk-utilisation-by-dairies-in-england-and-wales\">GOV.UK</a>\n",
    "    <ul>\n",
    "        <li><b>Product: </b>The type of product.</li>\n",
    "        <li><b>Conversion factor (litres/kg):</b> Liters of milk used to make one kilogram of product (in liters/kg).</li>\n",
    "    </ul>\n",
    "</div>"
   ]
  },
  {
   "cell_type": "code",
   "execution_count": 2,
   "metadata": {
    "dc": {
     "key": "4"
    }
   },
   "outputs": [],
   "source": [
    "%config Completer.use_jedi = False"
   ]
  },
  {
   "cell_type": "code",
   "execution_count": 52,
   "metadata": {
    "dc": {
     "key": "4"
    }
   },
   "outputs": [],
   "source": [
    "#importing necessary packages\n",
    "\n",
    "import pandas as pd\n",
    "#import matplotlib.pyplot as plt\n",
    "#import seaborn as sns\n",
    "import numpy as np\n",
    "import datetime as dt\n",
    "\n",
    "#reading first dataset\n",
    "raw_milk = pd.read_csv('datasets/milk_prices.csv')\n",
    "\n",
    "#renaming columns\n",
    "cols = ['Date', 'Measure type', 'Price', 'Volume', 'Protein', 'Butterfat',\n",
    "       'Unit of Measure']\n",
    "raw_milk.columns = cols"
   ]
  },
  {
   "cell_type": "code",
   "execution_count": 53,
   "metadata": {
    "dc": {
     "key": "4"
    }
   },
   "outputs": [
    {
     "data": {
      "text/html": [
       "<div>\n",
       "<style scoped>\n",
       "    .dataframe tbody tr th:only-of-type {\n",
       "        vertical-align: middle;\n",
       "    }\n",
       "\n",
       "    .dataframe tbody tr th {\n",
       "        vertical-align: top;\n",
       "    }\n",
       "\n",
       "    .dataframe thead th {\n",
       "        text-align: right;\n",
       "    }\n",
       "</style>\n",
       "<table border=\"1\" class=\"dataframe\">\n",
       "  <thead>\n",
       "    <tr style=\"text-align: right;\">\n",
       "      <th></th>\n",
       "      <th>Date</th>\n",
       "      <th>Measure type</th>\n",
       "      <th>Price</th>\n",
       "      <th>Volume</th>\n",
       "      <th>Protein</th>\n",
       "      <th>Butterfat</th>\n",
       "      <th>Unit of Measure</th>\n",
       "      <th>month</th>\n",
       "      <th>year</th>\n",
       "    </tr>\n",
       "  </thead>\n",
       "  <tbody>\n",
       "    <tr>\n",
       "      <th>0</th>\n",
       "      <td>1986-10</td>\n",
       "      <td>Price</td>\n",
       "      <td>0.1697</td>\n",
       "      <td>NaN</td>\n",
       "      <td>NaN</td>\n",
       "      <td>NaN</td>\n",
       "      <td>Pounds per litre</td>\n",
       "      <td>10</td>\n",
       "      <td>1986</td>\n",
       "    </tr>\n",
       "    <tr>\n",
       "      <th>1</th>\n",
       "      <td>2000-04</td>\n",
       "      <td>Volume</td>\n",
       "      <td>NaN</td>\n",
       "      <td>1177.0</td>\n",
       "      <td>NaN</td>\n",
       "      <td>NaN</td>\n",
       "      <td>Million litres</td>\n",
       "      <td>4</td>\n",
       "      <td>2000</td>\n",
       "    </tr>\n",
       "    <tr>\n",
       "      <th>2</th>\n",
       "      <td>1994-12</td>\n",
       "      <td>Protein</td>\n",
       "      <td>NaN</td>\n",
       "      <td>NaN</td>\n",
       "      <td>3.21</td>\n",
       "      <td>NaN</td>\n",
       "      <td>Percentage</td>\n",
       "      <td>12</td>\n",
       "      <td>1994</td>\n",
       "    </tr>\n",
       "    <tr>\n",
       "      <th>3</th>\n",
       "      <td>1997-10</td>\n",
       "      <td>Price</td>\n",
       "      <td>0.2082</td>\n",
       "      <td>NaN</td>\n",
       "      <td>NaN</td>\n",
       "      <td>NaN</td>\n",
       "      <td>Pounds per litre</td>\n",
       "      <td>10</td>\n",
       "      <td>1997</td>\n",
       "    </tr>\n",
       "    <tr>\n",
       "      <th>4</th>\n",
       "      <td>2002-10</td>\n",
       "      <td>Protein</td>\n",
       "      <td>NaN</td>\n",
       "      <td>NaN</td>\n",
       "      <td>3.41</td>\n",
       "      <td>NaN</td>\n",
       "      <td>Percentage</td>\n",
       "      <td>10</td>\n",
       "      <td>2002</td>\n",
       "    </tr>\n",
       "    <tr>\n",
       "      <th>5</th>\n",
       "      <td>1998-06</td>\n",
       "      <td>Protein</td>\n",
       "      <td>NaN</td>\n",
       "      <td>NaN</td>\n",
       "      <td>3.31</td>\n",
       "      <td>NaN</td>\n",
       "      <td>Percentage</td>\n",
       "      <td>6</td>\n",
       "      <td>1998</td>\n",
       "    </tr>\n",
       "    <tr>\n",
       "      <th>6</th>\n",
       "      <td>2013-10</td>\n",
       "      <td>Protein</td>\n",
       "      <td>NaN</td>\n",
       "      <td>NaN</td>\n",
       "      <td>3.32</td>\n",
       "      <td>NaN</td>\n",
       "      <td>Percentage</td>\n",
       "      <td>10</td>\n",
       "      <td>2013</td>\n",
       "    </tr>\n",
       "    <tr>\n",
       "      <th>7</th>\n",
       "      <td>2012-05</td>\n",
       "      <td>Volume</td>\n",
       "      <td>NaN</td>\n",
       "      <td>1252.0</td>\n",
       "      <td>NaN</td>\n",
       "      <td>NaN</td>\n",
       "      <td>Million litres</td>\n",
       "      <td>5</td>\n",
       "      <td>2012</td>\n",
       "    </tr>\n",
       "    <tr>\n",
       "      <th>8</th>\n",
       "      <td>2001-05</td>\n",
       "      <td>Volume</td>\n",
       "      <td>NaN</td>\n",
       "      <td>1304.0</td>\n",
       "      <td>NaN</td>\n",
       "      <td>NaN</td>\n",
       "      <td>Million litres</td>\n",
       "      <td>5</td>\n",
       "      <td>2001</td>\n",
       "    </tr>\n",
       "    <tr>\n",
       "      <th>9</th>\n",
       "      <td>1997-05</td>\n",
       "      <td>Protein</td>\n",
       "      <td>NaN</td>\n",
       "      <td>NaN</td>\n",
       "      <td>3.33</td>\n",
       "      <td>NaN</td>\n",
       "      <td>Percentage</td>\n",
       "      <td>5</td>\n",
       "      <td>1997</td>\n",
       "    </tr>\n",
       "  </tbody>\n",
       "</table>\n",
       "</div>"
      ],
      "text/plain": [
       "      Date Measure type   Price  Volume  Protein  Butterfat   Unit of Measure  \\\n",
       "0  1986-10        Price  0.1697     NaN      NaN        NaN  Pounds per litre   \n",
       "1  2000-04       Volume     NaN  1177.0      NaN        NaN    Million litres   \n",
       "2  1994-12      Protein     NaN     NaN     3.21        NaN        Percentage   \n",
       "3  1997-10        Price  0.2082     NaN      NaN        NaN  Pounds per litre   \n",
       "4  2002-10      Protein     NaN     NaN     3.41        NaN        Percentage   \n",
       "5  1998-06      Protein     NaN     NaN     3.31        NaN        Percentage   \n",
       "6  2013-10      Protein     NaN     NaN     3.32        NaN        Percentage   \n",
       "7  2012-05       Volume     NaN  1252.0      NaN        NaN    Million litres   \n",
       "8  2001-05       Volume     NaN  1304.0      NaN        NaN    Million litres   \n",
       "9  1997-05      Protein     NaN     NaN     3.33        NaN        Percentage   \n",
       "\n",
       "   month  year  \n",
       "0     10  1986  \n",
       "1      4  2000  \n",
       "2     12  1994  \n",
       "3     10  1997  \n",
       "4     10  2002  \n",
       "5      6  1998  \n",
       "6     10  2013  \n",
       "7      5  2012  \n",
       "8      5  2001  \n",
       "9      5  1997  "
      ]
     },
     "metadata": {},
     "output_type": "display_data"
    },
    {
     "name": "stdout",
     "output_type": "stream",
     "text": [
      "<class 'pandas.core.frame.DataFrame'>\n",
      "RangeIndex: 1557 entries, 0 to 1556\n",
      "Data columns (total 9 columns):\n",
      " #   Column           Non-Null Count  Dtype  \n",
      "---  ------           --------------  -----  \n",
      " 0   Date             1557 non-null   object \n",
      " 1   Measure type     1557 non-null   object \n",
      " 2   Price            611 non-null    float64\n",
      " 3   Volume           313 non-null    float64\n",
      " 4   Protein          313 non-null    float64\n",
      " 5   Butterfat        320 non-null    float64\n",
      " 6   Unit of Measure  1557 non-null   object \n",
      " 7   month            1557 non-null   int64  \n",
      " 8   year             1557 non-null   int64  \n",
      "dtypes: float64(4), int64(2), object(3)\n",
      "memory usage: 109.6+ KB\n"
     ]
    }
   ],
   "source": [
    "#conversion and extracting datetime data\n",
    "raw_milk['month'] = pd.to_datetime(raw_milk['Date'], format='%Y-%m').dt.month\n",
    "raw_milk['year'] = pd.to_datetime(raw_milk['Date'], format='%Y-%m').dt.year\n",
    "\n",
    "#inspecting dataframe\n",
    "display(raw_milk.head(10))\n",
    "raw_milk.info()\n"
   ]
  },
  {
   "cell_type": "code",
   "execution_count": 54,
   "metadata": {
    "dc": {
     "key": "4"
    }
   },
   "outputs": [
    {
     "data": {
      "text/plain": [
       "array(['Price', 'Volume', 'Protein', 'Butterfat'], dtype=object)"
      ]
     },
     "execution_count": 54,
     "metadata": {},
     "output_type": "execute_result"
    }
   ],
   "source": [
    "#notice that the \"Measure Type\" column combine 4 distinct values (price, volume, protein, butterfat)\n",
    "raw_milk['Measure type'].unique()\n"
   ]
  },
  {
   "cell_type": "code",
   "execution_count": 55,
   "metadata": {},
   "outputs": [
    {
     "data": {
      "text/plain": [
       "0"
      ]
     },
     "execution_count": 55,
     "metadata": {},
     "output_type": "execute_result"
    }
   ],
   "source": [
    "#we are only interested in Price\n",
    "raw_milk = raw_milk[raw_milk['Measure type'] == 'Price']\n",
    "\n",
    "#checking NA values for dataframe column we're interested in\n",
    "raw_milk.Price.isna().sum()\n",
    "#hence we can drop the column \"Measure type\" and focus on \"Price\" column"
   ]
  },
  {
   "cell_type": "code",
   "execution_count": 63,
   "metadata": {
    "dc": {
     "key": "4"
    }
   },
   "outputs": [
    {
     "data": {
      "text/html": [
       "<div>\n",
       "<style scoped>\n",
       "    .dataframe tbody tr th:only-of-type {\n",
       "        vertical-align: middle;\n",
       "    }\n",
       "\n",
       "    .dataframe tbody tr th {\n",
       "        vertical-align: top;\n",
       "    }\n",
       "\n",
       "    .dataframe thead th {\n",
       "        text-align: right;\n",
       "    }\n",
       "</style>\n",
       "<table border=\"1\" class=\"dataframe\">\n",
       "  <thead>\n",
       "    <tr style=\"text-align: right;\">\n",
       "      <th></th>\n",
       "      <th>year</th>\n",
       "      <th>month</th>\n",
       "      <th>Price</th>\n",
       "    </tr>\n",
       "  </thead>\n",
       "  <tbody>\n",
       "    <tr>\n",
       "      <th>0</th>\n",
       "      <td>2015</td>\n",
       "      <td>1</td>\n",
       "      <td>0.2646</td>\n",
       "    </tr>\n",
       "    <tr>\n",
       "      <th>1</th>\n",
       "      <td>2015</td>\n",
       "      <td>2</td>\n",
       "      <td>0.2606</td>\n",
       "    </tr>\n",
       "    <tr>\n",
       "      <th>2</th>\n",
       "      <td>2015</td>\n",
       "      <td>3</td>\n",
       "      <td>0.2505</td>\n",
       "    </tr>\n",
       "    <tr>\n",
       "      <th>3</th>\n",
       "      <td>2015</td>\n",
       "      <td>4</td>\n",
       "      <td>0.2469</td>\n",
       "    </tr>\n",
       "    <tr>\n",
       "      <th>4</th>\n",
       "      <td>2015</td>\n",
       "      <td>5</td>\n",
       "      <td>0.2414</td>\n",
       "    </tr>\n",
       "  </tbody>\n",
       "</table>\n",
       "</div>"
      ],
      "text/plain": [
       "   year  month   Price\n",
       "0  2015      1  0.2646\n",
       "1  2015      2  0.2606\n",
       "2  2015      3  0.2505\n",
       "3  2015      4  0.2469\n",
       "4  2015      5  0.2414"
      ]
     },
     "execution_count": 63,
     "metadata": {},
     "output_type": "execute_result"
    }
   ],
   "source": [
    "#grouping Price column by month and year where year is past 5 years\n",
    "raw_milk = raw_milk[raw_milk.year > 2014]\n",
    "raw_milk_price = raw_milk.groupby(['year','month'])[['Price']].sum().reset_index()\n",
    "\n",
    "raw_milk_price.head()"
   ]
  },
  {
   "cell_type": "code",
   "execution_count": 66,
   "metadata": {
    "dc": {
     "key": "4"
    }
   },
   "outputs": [
    {
     "data": {
      "text/html": [
       "<div>\n",
       "<style scoped>\n",
       "    .dataframe tbody tr th:only-of-type {\n",
       "        vertical-align: middle;\n",
       "    }\n",
       "\n",
       "    .dataframe tbody tr th {\n",
       "        vertical-align: top;\n",
       "    }\n",
       "\n",
       "    .dataframe thead th {\n",
       "        text-align: right;\n",
       "    }\n",
       "</style>\n",
       "<table border=\"1\" class=\"dataframe\">\n",
       "  <thead>\n",
       "    <tr style=\"text-align: right;\">\n",
       "      <th></th>\n",
       "      <th>Date</th>\n",
       "      <th>liquid_milk_production</th>\n",
       "      <th>cream_production</th>\n",
       "      <th>cheddar_cheese_production</th>\n",
       "    </tr>\n",
       "  </thead>\n",
       "  <tbody>\n",
       "    <tr>\n",
       "      <th>0</th>\n",
       "      <td>NaN</td>\n",
       "      <td>Million Litres</td>\n",
       "      <td>Million Litres</td>\n",
       "      <td>Thousand tonnes</td>\n",
       "    </tr>\n",
       "    <tr>\n",
       "      <th>1</th>\n",
       "      <td>Jan-15</td>\n",
       "      <td>571,2</td>\n",
       "      <td>25,7</td>\n",
       "      <td>24,2</td>\n",
       "    </tr>\n",
       "    <tr>\n",
       "      <th>2</th>\n",
       "      <td>Feb-15</td>\n",
       "      <td>524,1</td>\n",
       "      <td>22,5</td>\n",
       "      <td>21,3</td>\n",
       "    </tr>\n",
       "    <tr>\n",
       "      <th>3</th>\n",
       "      <td>Mar-15</td>\n",
       "      <td>583,0</td>\n",
       "      <td>25,7</td>\n",
       "      <td>26,2</td>\n",
       "    </tr>\n",
       "    <tr>\n",
       "      <th>4</th>\n",
       "      <td>Apr-15</td>\n",
       "      <td>542,0</td>\n",
       "      <td>26,4</td>\n",
       "      <td>29,3</td>\n",
       "    </tr>\n",
       "  </tbody>\n",
       "</table>\n",
       "</div>"
      ],
      "text/plain": [
       "     Date liquid_milk_production cream_production cheddar_cheese_production\n",
       "0     NaN         Million Litres   Million Litres           Thousand tonnes\n",
       "1  Jan-15                  571,2             25,7                      24,2\n",
       "2  Feb-15                  524,1             22,5                      21,3\n",
       "3  Mar-15                  583,0             25,7                      26,2\n",
       "4  Apr-15                  542,0             26,4                      29,3"
      ]
     },
     "execution_count": 66,
     "metadata": {},
     "output_type": "execute_result"
    }
   ],
   "source": [
    "#importing 2nd dataset\n",
    "milk_production = pd.read_csv('datasets/Milk_products_production.csv')\n",
    "col_production = ['Date', 'liquid_milk_production', 'cream_production',\n",
    "       'cheddar_cheese_production']\n",
    "milk_production.columns = col_production\n",
    "\n",
    "milk_production.head()\n",
    "\n",
    "#take note theres a unit on the first row\n",
    "#notice the units are with comma and possibly string type"
   ]
  },
  {
   "cell_type": "code",
   "execution_count": 67,
   "metadata": {
    "scrolled": false
   },
   "outputs": [
    {
     "name": "stdout",
     "output_type": "stream",
     "text": [
      "<class 'pandas.core.frame.DataFrame'>\n",
      "Int64Index: 72 entries, 1 to 72\n",
      "Data columns (total 3 columns):\n",
      " #   Column                     Non-Null Count  Dtype  \n",
      "---  ------                     --------------  -----  \n",
      " 0   cheddar_cheese_production  72 non-null     float64\n",
      " 1   year                       72 non-null     int64  \n",
      " 2   month                      72 non-null     int64  \n",
      "dtypes: float64(1), int64(2)\n",
      "memory usage: 2.2 KB\n"
     ]
    },
    {
     "data": {
      "text/plain": [
       "None"
      ]
     },
     "metadata": {},
     "output_type": "display_data"
    },
    {
     "data": {
      "text/html": [
       "<div>\n",
       "<style scoped>\n",
       "    .dataframe tbody tr th:only-of-type {\n",
       "        vertical-align: middle;\n",
       "    }\n",
       "\n",
       "    .dataframe tbody tr th {\n",
       "        vertical-align: top;\n",
       "    }\n",
       "\n",
       "    .dataframe thead th {\n",
       "        text-align: right;\n",
       "    }\n",
       "</style>\n",
       "<table border=\"1\" class=\"dataframe\">\n",
       "  <thead>\n",
       "    <tr style=\"text-align: right;\">\n",
       "      <th></th>\n",
       "      <th>cheddar_cheese_production</th>\n",
       "      <th>year</th>\n",
       "      <th>month</th>\n",
       "    </tr>\n",
       "  </thead>\n",
       "  <tbody>\n",
       "    <tr>\n",
       "      <th>1</th>\n",
       "      <td>24.2</td>\n",
       "      <td>2015</td>\n",
       "      <td>1</td>\n",
       "    </tr>\n",
       "    <tr>\n",
       "      <th>2</th>\n",
       "      <td>21.3</td>\n",
       "      <td>2015</td>\n",
       "      <td>2</td>\n",
       "    </tr>\n",
       "    <tr>\n",
       "      <th>3</th>\n",
       "      <td>26.2</td>\n",
       "      <td>2015</td>\n",
       "      <td>3</td>\n",
       "    </tr>\n",
       "    <tr>\n",
       "      <th>4</th>\n",
       "      <td>29.3</td>\n",
       "      <td>2015</td>\n",
       "      <td>4</td>\n",
       "    </tr>\n",
       "    <tr>\n",
       "      <th>5</th>\n",
       "      <td>31.0</td>\n",
       "      <td>2015</td>\n",
       "      <td>5</td>\n",
       "    </tr>\n",
       "  </tbody>\n",
       "</table>\n",
       "</div>"
      ],
      "text/plain": [
       "   cheddar_cheese_production  year  month\n",
       "1                       24.2  2015      1\n",
       "2                       21.3  2015      2\n",
       "3                       26.2  2015      3\n",
       "4                       29.3  2015      4\n",
       "5                       31.0  2015      5"
      ]
     },
     "execution_count": 67,
     "metadata": {},
     "output_type": "execute_result"
    }
   ],
   "source": [
    "#drop first row\n",
    "milk_production.drop([0], inplace=True)\n",
    "\n",
    "#conversion to datetime format\n",
    "milk_production['year'] = pd.to_datetime(milk_production['Date'], format=\"%b-%y\").dt.year\n",
    "milk_production['month'] = pd.to_datetime(milk_production['Date'], format=\"%b-%d\").dt.month\n",
    "\n",
    "#remove non relevant columns\n",
    "milk_production.drop(['liquid_milk_production','cream_production','Date'], axis=1, inplace=True)\n",
    "\n",
    "\n",
    "#convert data type for relevant column\n",
    "milk_production.cheddar_cheese_production = milk_production.cheddar_cheese_production.str.replace(',','.').astype('float64')\n",
    "display(milk_production.info())\n",
    "milk_production.head()"
   ]
  },
  {
   "cell_type": "code",
   "execution_count": 50,
   "metadata": {},
   "outputs": [
    {
     "data": {
      "text/plain": [
       "array([2015, 2016, 2017, 2018, 2019, 2020], dtype=int64)"
      ]
     },
     "execution_count": 50,
     "metadata": {},
     "output_type": "execute_result"
    }
   ],
   "source": [
    "milk_production.year.unique()"
   ]
  },
  {
   "cell_type": "code",
   "execution_count": 70,
   "metadata": {
    "collapsed": true
   },
   "outputs": [
    {
     "data": {
      "text/html": [
       "<div>\n",
       "<style scoped>\n",
       "    .dataframe tbody tr th:only-of-type {\n",
       "        vertical-align: middle;\n",
       "    }\n",
       "\n",
       "    .dataframe tbody tr th {\n",
       "        vertical-align: top;\n",
       "    }\n",
       "\n",
       "    .dataframe thead th {\n",
       "        text-align: right;\n",
       "    }\n",
       "</style>\n",
       "<table border=\"1\" class=\"dataframe\">\n",
       "  <thead>\n",
       "    <tr style=\"text-align: right;\">\n",
       "      <th></th>\n",
       "      <th>year</th>\n",
       "      <th>month</th>\n",
       "      <th>Price</th>\n",
       "      <th>cheddar_cheese_production</th>\n",
       "    </tr>\n",
       "  </thead>\n",
       "  <tbody>\n",
       "    <tr>\n",
       "      <th>0</th>\n",
       "      <td>2015</td>\n",
       "      <td>1</td>\n",
       "      <td>0.2646</td>\n",
       "      <td>24.2</td>\n",
       "    </tr>\n",
       "    <tr>\n",
       "      <th>1</th>\n",
       "      <td>2015</td>\n",
       "      <td>2</td>\n",
       "      <td>0.2606</td>\n",
       "      <td>21.3</td>\n",
       "    </tr>\n",
       "    <tr>\n",
       "      <th>2</th>\n",
       "      <td>2015</td>\n",
       "      <td>3</td>\n",
       "      <td>0.2505</td>\n",
       "      <td>26.2</td>\n",
       "    </tr>\n",
       "    <tr>\n",
       "      <th>3</th>\n",
       "      <td>2015</td>\n",
       "      <td>4</td>\n",
       "      <td>0.2469</td>\n",
       "      <td>29.3</td>\n",
       "    </tr>\n",
       "    <tr>\n",
       "      <th>4</th>\n",
       "      <td>2015</td>\n",
       "      <td>5</td>\n",
       "      <td>0.2414</td>\n",
       "      <td>31.0</td>\n",
       "    </tr>\n",
       "  </tbody>\n",
       "</table>\n",
       "</div>"
      ],
      "text/plain": [
       "   year  month   Price  cheddar_cheese_production\n",
       "0  2015      1  0.2646                       24.2\n",
       "1  2015      2  0.2606                       21.3\n",
       "2  2015      3  0.2505                       26.2\n",
       "3  2015      4  0.2469                       29.3\n",
       "4  2015      5  0.2414                       31.0"
      ]
     },
     "execution_count": 70,
     "metadata": {},
     "output_type": "execute_result"
    }
   ],
   "source": [
    "#merge 1st and 2nd dataframe on month and year\n",
    "merged = pd.merge(raw_milk_price, milk_production, on=['year', 'month'])\n",
    "merged.head()"
   ]
  },
  {
   "cell_type": "code",
   "execution_count": 100,
   "metadata": {},
   "outputs": [
    {
     "data": {
      "text/html": [
       "<div>\n",
       "<style scoped>\n",
       "    .dataframe tbody tr th:only-of-type {\n",
       "        vertical-align: middle;\n",
       "    }\n",
       "\n",
       "    .dataframe tbody tr th {\n",
       "        vertical-align: top;\n",
       "    }\n",
       "\n",
       "    .dataframe thead th {\n",
       "        text-align: right;\n",
       "    }\n",
       "</style>\n",
       "<table border=\"1\" class=\"dataframe\">\n",
       "  <thead>\n",
       "    <tr style=\"text-align: right;\">\n",
       "      <th></th>\n",
       "      <th>Product</th>\n",
       "      <th>Conversion factor (litres/kg)</th>\n",
       "    </tr>\n",
       "  </thead>\n",
       "  <tbody>\n",
       "    <tr>\n",
       "      <th>0</th>\n",
       "      <td>Butter (from Cream)</td>\n",
       "      <td>2.04</td>\n",
       "    </tr>\n",
       "    <tr>\n",
       "      <th>1</th>\n",
       "      <td>Cheddar</td>\n",
       "      <td>9.50</td>\n",
       "    </tr>\n",
       "    <tr>\n",
       "      <th>2</th>\n",
       "      <td>Other Long Life Territorials</td>\n",
       "      <td>9.20</td>\n",
       "    </tr>\n",
       "    <tr>\n",
       "      <th>3</th>\n",
       "      <td>Short life Territorials</td>\n",
       "      <td>8.10</td>\n",
       "    </tr>\n",
       "    <tr>\n",
       "      <th>4</th>\n",
       "      <td>Blue vein</td>\n",
       "      <td>9.10</td>\n",
       "    </tr>\n",
       "    <tr>\n",
       "      <th>5</th>\n",
       "      <td>Mozarella</td>\n",
       "      <td>9.80</td>\n",
       "    </tr>\n",
       "    <tr>\n",
       "      <th>6</th>\n",
       "      <td>Cottage cheese /Fromage frais</td>\n",
       "      <td>3.60</td>\n",
       "    </tr>\n",
       "    <tr>\n",
       "      <th>7</th>\n",
       "      <td>Soft cheese</td>\n",
       "      <td>8.00</td>\n",
       "    </tr>\n",
       "    <tr>\n",
       "      <th>8</th>\n",
       "      <td>Non-specified cheese</td>\n",
       "      <td>9.70</td>\n",
       "    </tr>\n",
       "    <tr>\n",
       "      <th>9</th>\n",
       "      <td>Condensed Milk</td>\n",
       "      <td>2.70</td>\n",
       "    </tr>\n",
       "    <tr>\n",
       "      <th>10</th>\n",
       "      <td>Milk Powder (from Whole milk)</td>\n",
       "      <td>8.50</td>\n",
       "    </tr>\n",
       "    <tr>\n",
       "      <th>11</th>\n",
       "      <td>Milk Powder (from Skim milk)</td>\n",
       "      <td>10.10</td>\n",
       "    </tr>\n",
       "    <tr>\n",
       "      <th>12</th>\n",
       "      <td>Milk Powder (from Cream)</td>\n",
       "      <td>12.30</td>\n",
       "    </tr>\n",
       "    <tr>\n",
       "      <th>13</th>\n",
       "      <td>Cream (from cream)</td>\n",
       "      <td>1.00</td>\n",
       "    </tr>\n",
       "    <tr>\n",
       "      <th>14</th>\n",
       "      <td>Yoghurt</td>\n",
       "      <td>1.10</td>\n",
       "    </tr>\n",
       "  </tbody>\n",
       "</table>\n",
       "</div>"
      ],
      "text/plain": [
       "                          Product  Conversion factor (litres/kg)\n",
       "0             Butter (from Cream)                           2.04\n",
       "1                         Cheddar                           9.50\n",
       "2    Other Long Life Territorials                           9.20\n",
       "3         Short life Territorials                           8.10\n",
       "4                       Blue vein                           9.10\n",
       "5                       Mozarella                           9.80\n",
       "6   Cottage cheese /Fromage frais                           3.60\n",
       "7                     Soft cheese                           8.00\n",
       "8            Non-specified cheese                           9.70\n",
       "9                  Condensed Milk                           2.70\n",
       "10  Milk Powder (from Whole milk)                           8.50\n",
       "11   Milk Powder (from Skim milk)                          10.10\n",
       "12       Milk Powder (from Cream)                          12.30\n",
       "13             Cream (from cream)                           1.00\n",
       "14                        Yoghurt                           1.10"
      ]
     },
     "execution_count": 100,
     "metadata": {},
     "output_type": "execute_result"
    }
   ],
   "source": [
    "convert = pd.read_csv('datasets/conversion_factors.csv')\n",
    "convert"
   ]
  },
  {
   "cell_type": "code",
   "execution_count": 102,
   "metadata": {},
   "outputs": [
    {
     "data": {
      "text/html": [
       "<div>\n",
       "<style scoped>\n",
       "    .dataframe tbody tr th:only-of-type {\n",
       "        vertical-align: middle;\n",
       "    }\n",
       "\n",
       "    .dataframe tbody tr th {\n",
       "        vertical-align: top;\n",
       "    }\n",
       "\n",
       "    .dataframe thead th {\n",
       "        text-align: right;\n",
       "    }\n",
       "</style>\n",
       "<table border=\"1\" class=\"dataframe\">\n",
       "  <thead>\n",
       "    <tr style=\"text-align: right;\">\n",
       "      <th></th>\n",
       "      <th>year</th>\n",
       "      <th>month</th>\n",
       "      <th>Price</th>\n",
       "      <th>cheddar_cheese_production</th>\n",
       "      <th>cost</th>\n",
       "    </tr>\n",
       "  </thead>\n",
       "  <tbody>\n",
       "    <tr>\n",
       "      <th>0</th>\n",
       "      <td>2015</td>\n",
       "      <td>1</td>\n",
       "      <td>0.2646</td>\n",
       "      <td>24.2</td>\n",
       "      <td>60831540.0</td>\n",
       "    </tr>\n",
       "    <tr>\n",
       "      <th>1</th>\n",
       "      <td>2015</td>\n",
       "      <td>2</td>\n",
       "      <td>0.2606</td>\n",
       "      <td>21.3</td>\n",
       "      <td>52732410.0</td>\n",
       "    </tr>\n",
       "    <tr>\n",
       "      <th>2</th>\n",
       "      <td>2015</td>\n",
       "      <td>3</td>\n",
       "      <td>0.2505</td>\n",
       "      <td>26.2</td>\n",
       "      <td>62349450.0</td>\n",
       "    </tr>\n",
       "    <tr>\n",
       "      <th>3</th>\n",
       "      <td>2015</td>\n",
       "      <td>4</td>\n",
       "      <td>0.2469</td>\n",
       "      <td>29.3</td>\n",
       "      <td>68724615.0</td>\n",
       "    </tr>\n",
       "    <tr>\n",
       "      <th>4</th>\n",
       "      <td>2015</td>\n",
       "      <td>5</td>\n",
       "      <td>0.2414</td>\n",
       "      <td>31.0</td>\n",
       "      <td>71092300.0</td>\n",
       "    </tr>\n",
       "  </tbody>\n",
       "</table>\n",
       "</div>"
      ],
      "text/plain": [
       "   year  month   Price  cheddar_cheese_production        cost\n",
       "0  2015      1  0.2646                       24.2  60831540.0\n",
       "1  2015      2  0.2606                       21.3  52732410.0\n",
       "2  2015      3  0.2505                       26.2  62349450.0\n",
       "3  2015      4  0.2469                       29.3  68724615.0\n",
       "4  2015      5  0.2414                       31.0  71092300.0"
      ]
     },
     "execution_count": 102,
     "metadata": {},
     "output_type": "execute_result"
    }
   ],
   "source": [
    "#notice in the conversion factor table above, we need 9.5 litre of milk for each 1kg cheese\n",
    "\n",
    "#remember that the unit for Price is Pound/Litre\n",
    "\n",
    "#remember that the unit for cheddar_cheese_production is thousand tonnes\n",
    "\n",
    "#Cost = production * price * 1000 * 1000 * 9.5\n",
    "merged['cost'] = merged.Price * merged.cheddar_cheese_production * 1000 * 1000 * 9.5\n",
    "merged.head()"
   ]
  },
  {
   "cell_type": "code",
   "execution_count": 125,
   "metadata": {
    "scrolled": false
   },
   "outputs": [
    {
     "data": {
      "text/plain": [
       "year\n",
       "2015    702651920.0\n",
       "2016    666635425.0\n",
       "2017    887977635.0\n",
       "2018    922553075.0\n",
       "2019    896657880.0\n",
       "2020    836934800.0\n",
       "Name: cost, dtype: float64"
      ]
     },
     "execution_count": 125,
     "metadata": {},
     "output_type": "execute_result"
    }
   ],
   "source": [
    "#groupby year, aggregation type is sum\n",
    "annual_milk_cost = merged.groupby('year')['cost'].sum()\n",
    "annual_milk_cost"
   ]
  },
  {
   "cell_type": "code",
   "execution_count": 137,
   "metadata": {},
   "outputs": [
    {
     "name": "stdout",
     "output_type": "stream",
     "text": [
      "The cost of milk for the year 2015 is £702651920\n",
      "The cost of milk for the year 2016 is £666635424\n",
      "The cost of milk for the year 2017 is £887977635\n",
      "The cost of milk for the year 2018 is £922553074\n",
      "The cost of milk for the year 2019 is £896657880\n",
      "The cost of milk for the year 2020 is £836934800\n"
     ]
    }
   ],
   "source": [
    "for x,y in annual_milk_cost.iteritems():\n",
    "    #print(\"The cost of milk for the year \", annual_milk_cost.index[x], \"is \", annual_milk_cost.iloc[x,1])\n",
    "    s = str(int(y))\n",
    "    print(\"The cost of milk for the year\", x, \"is\", \"£\"+s)"
   ]
  }
 ],
 "metadata": {
  "kernelspec": {
   "display_name": "Python 3",
   "language": "python",
   "name": "python3"
  },
  "language_info": {
   "codemirror_mode": {
    "name": "ipython",
    "version": 3
   },
   "file_extension": ".py",
   "mimetype": "text/x-python",
   "name": "python",
   "nbconvert_exporter": "python",
   "pygments_lexer": "ipython3",
   "version": "3.8.8"
  }
 },
 "nbformat": 4,
 "nbformat_minor": 2
}
